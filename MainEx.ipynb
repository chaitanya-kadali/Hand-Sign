{
 "cells": [
  {
   "cell_type": "markdown",
   "id": "de9e0ea0-4fee-4356-b7c2-f3293516dbc3",
   "metadata": {},
   "source": [
    "# Run All these codes in terminal/Command Prompt only\n",
    "\n",
    "note :- terminal to be opened at mentioned-folder only"
   ]
  },
  {
   "cell_type": "code",
   "execution_count": null,
   "id": "f608dc38-3aca-46de-8b97-b26651fe286a",
   "metadata": {},
   "outputs": [],
   "source": [
    "python collect_imgs.py"
   ]
  },
  {
   "cell_type": "code",
   "execution_count": null,
   "id": "efeb05b1-7a7d-4734-9f08-124267f4c05b",
   "metadata": {},
   "outputs": [],
   "source": [
    "pip install matplotlib"
   ]
  },
  {
   "cell_type": "code",
   "execution_count": null,
   "id": "ecaffbaa-55d5-47c2-900a-428c38440a85",
   "metadata": {},
   "outputs": [],
   "source": [
    "pip install pickle-mixin"
   ]
  },
  {
   "cell_type": "code",
   "execution_count": null,
   "id": "9a750c30-10a7-42dc-b1be-b8c058f7fd21",
   "metadata": {},
   "outputs": [],
   "source": [
    "python create_dataset.py"
   ]
  },
  {
   "cell_type": "code",
   "execution_count": null,
   "id": "0e5e96a7-07b3-4979-8639-bb5cdf1fe8e6",
   "metadata": {},
   "outputs": [],
   "source": [
    "python train_classifier.py"
   ]
  },
  {
   "cell_type": "code",
   "execution_count": null,
   "id": "af68ae72-fd0a-4689-a2bd-8a972e0ab62d",
   "metadata": {},
   "outputs": [],
   "source": [
    "python inference_classifier.py"
   ]
  }
 ],
 "metadata": {
  "kernelspec": {
   "display_name": "Python 3 (ipykernel)",
   "language": "python",
   "name": "python3"
  },
  "language_info": {
   "codemirror_mode": {
    "name": "ipython",
    "version": 3
   },
   "file_extension": ".py",
   "mimetype": "text/x-python",
   "name": "python",
   "nbconvert_exporter": "python",
   "pygments_lexer": "ipython3",
   "version": "3.9.12"
  }
 },
 "nbformat": 4,
 "nbformat_minor": 5
}
